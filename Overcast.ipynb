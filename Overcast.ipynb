{
  "nbformat": 4,
  "nbformat_minor": 0,
  "metadata": {
    "colab": {
      "provenance": [],
      "authorship_tag": "ABX9TyOaTDvbU8SZPvb4PYC1q7K9",
      "include_colab_link": true
    },
    "kernelspec": {
      "name": "python3",
      "display_name": "Python 3"
    },
    "language_info": {
      "name": "python"
    }
  },
  "cells": [
    {
      "cell_type": "markdown",
      "metadata": {
        "id": "view-in-github",
        "colab_type": "text"
      },
      "source": [
        "<a href=\"https://colab.research.google.com/github/rufoabrahamguyo/Library-Management-System/blob/main/Overcast.ipynb\" target=\"_parent\"><img src=\"https://colab.research.google.com/assets/colab-badge.svg\" alt=\"Open In Colab\"/></a>"
      ]
    },
    {
      "cell_type": "code",
      "execution_count": 1,
      "metadata": {
        "colab": {
          "base_uri": "https://localhost:8080/"
        },
        "id": "vBiSflEbzQdv",
        "outputId": "f1d28fd5-c27c-4909-d5ba-2daf4f9be45b"
      },
      "outputs": [
        {
          "output_type": "stream",
          "name": "stdout",
          "text": [
            "[1]\n",
            "['Yes']\n"
          ]
        }
      ],
      "source": [
        "from sklearn.naive_bayes import GaussianNB\n",
        "from sklearn import preprocessing\n",
        "import numpy as np\n",
        "\n",
        "# 1) Raw data as strings\n",
        "weather = [\n",
        "    'Rainy','Sunny','Overcast','Rainy','Rainy','Overcast','Sunny',\n",
        "    'Sunny','Rainy','Rainy','Overcast','Overcast','Sunny'\n",
        "]\n",
        "play = [\n",
        "    'No','No','Yes','Yes','No','Yes','Yes',\n",
        "    'No','No','Yes','Yes','Yes','Yes'\n",
        "]\n",
        "\n",
        "# 2) Encode string labels as integers\n",
        "le = preprocessing.LabelEncoder()\n",
        "weather_encoded = le.fit_transform(weather)\n",
        "label = le.fit_transform(play)\n",
        "#    weather_encoded now holds values 0,1,2 corresponding to ['Overcast','Rainy','Sunny']\n",
        "#    label         now holds 0='No', 1='Yes'\n",
        "\n",
        "# 3) Prepare feature matrix X\n",
        "#    Here we only have one feature (the encoded weather), so reshape into (-1,1)\n",
        "X = weather_encoded.reshape(-1, 1)\n",
        "\n",
        "# 4) Create and train a Gaussian Naïve Bayes model\n",
        "model = GaussianNB()\n",
        "model.fit(X, label)\n",
        "\n",
        "# 5) Make a prediction\n",
        "#    Let’s say we observe weather=‘Overcast’ → encoded as 0\n",
        "prediction = model.predict([[0]])\n",
        "print(prediction)      # prints [1]\n",
        "print(le.inverse_transform(prediction))  # prints ['Yes']\n"
      ]
    }
  ]
}