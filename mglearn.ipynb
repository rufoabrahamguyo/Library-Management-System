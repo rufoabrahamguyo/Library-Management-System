{
  "nbformat": 4,
  "nbformat_minor": 0,
  "metadata": {
    "colab": {
      "provenance": [],
      "authorship_tag": "ABX9TyM7JdR0+KRUdmVfByHigugm",
      "include_colab_link": true
    },
    "kernelspec": {
      "name": "python3",
      "display_name": "Python 3"
    },
    "language_info": {
      "name": "python"
    }
  },
  "cells": [
    {
      "cell_type": "markdown",
      "metadata": {
        "id": "view-in-github",
        "colab_type": "text"
      },
      "source": [
        "<a href=\"https://colab.research.google.com/github/rufoabrahamguyo/Library-Management-System/blob/main/mglearn.ipynb\" target=\"_parent\"><img src=\"https://colab.research.google.com/assets/colab-badge.svg\" alt=\"Open In Colab\"/></a>"
      ]
    },
    {
      "cell_type": "code",
      "execution_count": null,
      "metadata": {
        "id": "_Id5wy7qBxcA",
        "colab": {
          "base_uri": "https://localhost:8080/"
        },
        "outputId": "cfc13581-d8ca-4a16-9d59-6da9c8ec634d"
      },
      "outputs": [
        {
          "output_type": "stream",
          "name": "stdout",
          "text": [
            "Collecting mglearn\n",
            "  Downloading mglearn-0.2.0-py2.py3-none-any.whl.metadata (628 bytes)\n",
            "Requirement already satisfied: numpy in /usr/local/lib/python3.11/dist-packages (from mglearn) (2.0.2)\n",
            "Requirement already satisfied: matplotlib in /usr/local/lib/python3.11/dist-packages (from mglearn) (3.10.0)\n",
            "Requirement already satisfied: scikit-learn in /usr/local/lib/python3.11/dist-packages (from mglearn) (1.6.1)\n",
            "Requirement already satisfied: pandas in /usr/local/lib/python3.11/dist-packages (from mglearn) (2.2.2)\n",
            "Requirement already satisfied: pillow in /usr/local/lib/python3.11/dist-packages (from mglearn) (11.2.1)\n",
            "Requirement already satisfied: cycler in /usr/local/lib/python3.11/dist-packages (from mglearn) (0.12.1)\n",
            "Requirement already satisfied: imageio in /usr/local/lib/python3.11/dist-packages (from mglearn) (2.37.0)\n",
            "Requirement already satisfied: joblib in /usr/local/lib/python3.11/dist-packages (from mglearn) (1.5.1)\n",
            "Requirement already satisfied: contourpy>=1.0.1 in /usr/local/lib/python3.11/dist-packages (from matplotlib->mglearn) (1.3.2)\n",
            "Requirement already satisfied: fonttools>=4.22.0 in /usr/local/lib/python3.11/dist-packages (from matplotlib->mglearn) (4.58.1)\n",
            "Requirement already satisfied: kiwisolver>=1.3.1 in /usr/local/lib/python3.11/dist-packages (from matplotlib->mglearn) (1.4.8)\n",
            "Requirement already satisfied: packaging>=20.0 in /usr/local/lib/python3.11/dist-packages (from matplotlib->mglearn) (24.2)\n",
            "Requirement already satisfied: pyparsing>=2.3.1 in /usr/local/lib/python3.11/dist-packages (from matplotlib->mglearn) (3.2.3)\n",
            "Requirement already satisfied: python-dateutil>=2.7 in /usr/local/lib/python3.11/dist-packages (from matplotlib->mglearn) (2.9.0.post0)\n",
            "Requirement already satisfied: pytz>=2020.1 in /usr/local/lib/python3.11/dist-packages (from pandas->mglearn) (2025.2)\n",
            "Requirement already satisfied: tzdata>=2022.7 in /usr/local/lib/python3.11/dist-packages (from pandas->mglearn) (2025.2)\n",
            "Requirement already satisfied: scipy>=1.6.0 in /usr/local/lib/python3.11/dist-packages (from scikit-learn->mglearn) (1.15.3)\n",
            "Requirement already satisfied: threadpoolctl>=3.1.0 in /usr/local/lib/python3.11/dist-packages (from scikit-learn->mglearn) (3.6.0)\n",
            "Requirement already satisfied: six>=1.5 in /usr/local/lib/python3.11/dist-packages (from python-dateutil>=2.7->matplotlib->mglearn) (1.17.0)\n",
            "Downloading mglearn-0.2.0-py2.py3-none-any.whl (581 kB)\n",
            "\u001b[?25l   \u001b[90m━━━━━━━━━━━━━━━━━━━━━━━━━━━━━━━━━━━━━━━━\u001b[0m \u001b[32m0.0/581.4 kB\u001b[0m \u001b[31m?\u001b[0m eta \u001b[36m-:--:--\u001b[0m\r\u001b[2K   \u001b[91m━━━━━━━━━━━━━━━━━━━━━━━━━━━━━━━━━━━━━━━\u001b[0m\u001b[90m╺\u001b[0m \u001b[32m573.4/581.4 kB\u001b[0m \u001b[31m24.9 MB/s\u001b[0m eta \u001b[36m0:00:01\u001b[0m\r\u001b[2K   \u001b[90m━━━━━━━━━━━━━━━━━━━━━━━━━━━━━━━━━━━━━━━━\u001b[0m \u001b[32m581.4/581.4 kB\u001b[0m \u001b[31m16.0 MB/s\u001b[0m eta \u001b[36m0:00:00\u001b[0m\n",
            "\u001b[?25hInstalling collected packages: mglearn\n",
            "Successfully installed mglearn-0.2.0\n"
          ]
        }
      ],
      "source": [
        "pip install mglearn"
      ]
    },
    {
      "cell_type": "code",
      "source": [
        "\n",
        "import numpy as np\n",
        "from sklearn.linear_model import LinearRegression\n",
        "import matplotlib.pyplot as plt\n",
        "x = np.array([5, 12, 20, 30, 40, 50])\n",
        "X=x.reshape((-1, 1))\n",
        "y =np.array([10, 20, 18, 28, 25, 671])\n",
        "model = LinearRegression( )\n",
        "model.fit(X, y)\n",
        "print('intercept:', model.intercept_)\n",
        "print('slope:', model.coef_)\n",
        "plt.scatter(x, y);\n",
        "plt.plot(x, (model.coef_*x)+(model.intercept_),color='red')\n",
        "plt.xlabel(\"X\")\n",
        "plt.ylabel(\"y\")"
      ],
      "metadata": {
        "colab": {
          "base_uri": "https://localhost:8080/",
          "height": 502
        },
        "id": "ptJMGX7V1QQQ",
        "outputId": "102cb6f8-702f-4d37-a91b-f44729029195"
      },
      "execution_count": null,
      "outputs": [
        {
          "output_type": "stream",
          "name": "stdout",
          "text": [
            "intercept: -155.04985738733595\n",
            "slope: [10.84266971]\n"
          ]
        },
        {
          "output_type": "execute_result",
          "data": {
            "text/plain": [
              "Text(0, 0.5, 'y')"
            ]
          },
          "metadata": {},
          "execution_count": 2
        },
        {
          "output_type": "display_data",
          "data": {
            "text/plain": [
              "<Figure size 640x480 with 1 Axes>"
            ],
            "image/png": "[encoded data removed]"
          },
          "metadata": {}
        }
      ]
    },
    {
      "cell_type": "code",
      "source": [
        "import mglearn\n",
        "import numpy as np\n",
        "import matplotlib.pyplot as plt\n",
        "\n",
        "X,y=mglearn.datasets.make_forge()\n",
        "np.c_[X,y]"
      ],
      "metadata": {
        "colab": {
          "base_uri": "https://localhost:8080/"
        },
        "id": "wDjRKc9a1g7l",
        "outputId": "a58c7a66-cd9f-4c34-bb1c-2137c69de61f"
      },
      "execution_count": null,
      "outputs": [
        {
          "output_type": "execute_result",
          "data": {
            "text/plain": [
              "array([[ 9.96346605,  4.59676542,  1.        ],\n",
              "       [11.0329545 , -0.16816717,  0.        ],\n",
              "       [11.54155807,  5.21116083,  1.        ],\n",
              "       [ 8.69289001,  1.54322016,  0.        ],\n",
              "       [ 8.1062269 ,  4.28695977,  0.        ],\n",
              "       [ 8.30988863,  4.80623966,  1.        ],\n",
              "       [11.93027136,  4.64866327,  1.        ],\n",
              "       [ 9.67284681, -0.20283165,  0.        ],\n",
              "       [ 8.34810316,  5.13415623,  1.        ],\n",
              "       [ 8.67494727,  4.47573059,  1.        ],\n",
              "       [ 9.17748385,  5.09283177,  1.        ],\n",
              "       [10.24028948,  2.45544401,  1.        ],\n",
              "       [ 8.68937095,  1.48709629,  0.        ],\n",
              "       [ 8.92229526, -0.63993225,  0.        ],\n",
              "       [ 9.49123469,  4.33224792,  1.        ],\n",
              "       [ 9.25694192,  5.13284858,  1.        ],\n",
              "       [ 7.99815287,  4.8525051 ,  1.        ],\n",
              "       [ 8.18378052,  1.29564214,  0.        ],\n",
              "       [ 8.7337095 ,  2.49162431,  0.        ],\n",
              "       [ 9.32298256,  5.09840649,  1.        ],\n",
              "       [10.06393839,  0.99078055,  0.        ],\n",
              "       [ 9.50048972, -0.26430318,  0.        ],\n",
              "       [ 8.34468785,  1.63824349,  0.        ],\n",
              "       [ 9.50169345,  1.93824624,  0.        ],\n",
              "       [ 9.15072323,  5.49832246,  1.        ],\n",
              "       [11.563957  ,  1.3389402 ,  0.        ]])"
            ]
          },
          "metadata": {},
          "execution_count": 3
        }
      ]
    },
    {
      "cell_type": "code",
      "source": [
        "import mglearn\n",
        "import numpy as np\n",
        "import matplotlib.pyplot as plt\n",
        "\n",
        "X,y=mglearn.datasets.make_forge()\n",
        "mglearn.discrete_scatter(X[:,0],X[:,1],y)\n",
        "plt.legend([\"Class 0\", \"Class 1\"],loc=4)\n",
        "plt.xlabel(\"x\")\n",
        "plt.xlabel(\"y\")\n",
        "plt.title(\"Scatter plot\")"
      ],
      "metadata": {
        "colab": {
          "base_uri": "https://localhost:8080/",
          "height": 489
        },
        "id": "hl06cnMC1kK3",
        "outputId": "89c76da1-2994-4123-b6dc-1ee412d12167"
      },
      "execution_count": null,
      "outputs": [
        {
          "output_type": "execute_result",
          "data": {
            "text/plain": [
              "Text(0.5, 1.0, 'Scatter plot')"
            ]
          },
          "metadata": {},
          "execution_count": 5
        },
        {
          "output_type": "display_data",
          "data": {
            "text/plain": [
              "<Figure size 640x480 with 1 Axes>"
            ],
            "image/png": "[encoded data removed]"
          },
          "metadata": {}
        }
      ]
    },
    {
      "cell_type": "code",
      "source": [
        "from sklearn.neighbors import KNeighborsClassifier\n",
        "from sklearn.model_selection import train_test_split\n",
        "\n",
        "# Split the data\n",
        "X_train, X_test, y_train, y_test = train_test_split(X, y, random_state=0)\n",
        "\n",
        "# Print the sizes\n",
        "print(\"Size of training set:\", X_train.shape)\n",
        "print(\"Size of testing set:\", X_test.shape)\n",
        "\n"
      ],
      "metadata": {
        "colab": {
          "base_uri": "https://localhost:8080/"
        },
        "id": "BdHMakIA119y",
        "outputId": "49289e59-a990-4e88-e6f3-bee81ca88de8"
      },
      "execution_count": null,
      "outputs": [
        {
          "output_type": "stream",
          "name": "stdout",
          "text": [
            "Size of training set: (19, 2)\n",
            "Size of testing set: (7, 2)\n"
          ]
        }
      ]
    },
    {
      "cell_type": "code",
      "source": [
        "# Make the classifier\n",
        "clf = KNeighborsClassifier(n_neighbors=19)\n",
        "clf.fit(X_train, y_train)\n",
        "\n",
        "# Test accuracy of the model and make predictions\n",
        "print(\"The accuracy of training set {:.4f}\".format(clf.score(X_train, y_train)))\n",
        "print(\"The accuracy of testing set {:.4f}\".format(clf.score(X_test, y_test)))\n",
        "\n",
        "print(\"Actual labels of test set: \", y_test)\n",
        "print(\"Predicted labels of test set: \", clf.predict(X_test))\n"
      ],
      "metadata": {
        "colab": {
          "base_uri": "https://localhost:8080/"
        },
        "id": "dckT4Y-r3YU3",
        "outputId": "fcafdd1b-1f38-42f3-b421-70916efbd04c"
      },
      "execution_count": 12,
      "outputs": [
        {
          "output_type": "stream",
          "name": "stdout",
          "text": [
            "The accuracy of training set 0.5263\n",
            "The accuracy of testing set 0.4286\n",
            "Actual labels of test set:  [1 0 1 0 1 1 0]\n",
            "Predicted labels of test set:  [0 0 0 0 0 0 0]\n"
          ]
        }
      ]
    }
  ]
}