{
  "nbformat": 4,
  "nbformat_minor": 0,
  "metadata": {
    "colab": {
      "provenance": [],
      "authorship_tag": "ABX9TyPWVDkik/fxeVKJmZ+hAnYR",
      "include_colab_link": true
    },
    "kernelspec": {
      "name": "python3",
      "display_name": "Python 3"
    },
    "language_info": {
      "name": "python"
    }
  },
  "cells": [
    {
      "cell_type": "markdown",
      "metadata": {
        "id": "view-in-github",
        "colab_type": "text"
      },
      "source": [
        "<a href=\"https://colab.research.google.com/github/rufoabrahamguyo/Library-Management-System/blob/main/MultinomialNB.ipynb\" target=\"_parent\"><img src=\"https://colab.research.google.com/assets/colab-badge.svg\" alt=\"Open In Colab\"/></a>"
      ]
    },
    {
      "cell_type": "code",
      "execution_count": 1,
      "metadata": {
        "id": "gOb67Q1sy940"
      },
      "outputs": [],
      "source": [
        "from sklearn.pipeline import make_pipeline\n",
        "from sklearn.compose import ColumnTransformer\n",
        "from sklearn.feature_extraction.text import CountVectorizer\n",
        "from sklearn.preprocessing import OneHotEncoder, StandardScaler\n",
        "from sklearn.naive_bayes import MultinomialNB\n",
        "\n",
        "# Specify which columns are text, categorical, numeric\n",
        "text_cols = ['review_text']\n",
        "cat_cols  = ['weather', 'season']\n",
        "num_cols  = ['temperature', 'humidity']\n",
        "\n",
        "preprocessor = ColumnTransformer(\n",
        "    transformers=[\n",
        "        ('txt', CountVectorizer(),        'review_text'),\n",
        "        ('cat', OneHotEncoder(),          cat_cols),\n",
        "        ('num', StandardScaler(),         num_cols),\n",
        "    ],\n",
        "    remainder='drop'      # drop any other columns\n",
        ")\n",
        "\n",
        "model = make_pipeline(preprocessor, MultinomialNB())\n",
        "# Now `model.fit(X_train, y_train)` handles encoding + training!\n"
      ]
    }
  ]
}